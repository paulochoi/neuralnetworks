{
 "cells": [
  {
   "cell_type": "markdown",
   "metadata": {
    "collapsed": true
   },
   "source": [
    "# Image Classification\n",
    "In this project, you'll classify images from the [CIFAR-10 dataset](https://www.cs.toronto.edu/~kriz/cifar.html).  The dataset consists of airplanes, dogs, cats, and other objects. You'll preprocess the images, then train a convolutional neural network on all the samples. The images need to be normalized and the labels need to be one-hot encoded.  You'll get to apply what you learned and build a convolutional, max pooling, dropout, and fully connected layers.  At the end, you'll get to see your neural network's predictions on the sample images.\n",
    "## Get the Data\n",
    "Run the following cell to download the [CIFAR-10 dataset for python](https://www.cs.toronto.edu/~kriz/cifar-10-python.tar.gz)."
   ]
  },
  {
   "cell_type": "code",
   "execution_count": 1,
   "metadata": {},
   "outputs": [
    {
     "name": "stdout",
     "output_type": "stream",
     "text": [
      "All files found!\n"
     ]
    }
   ],
   "source": [
    "\"\"\"\n",
    "DON'T MODIFY ANYTHING IN THIS CELL THAT IS BELOW THIS LINE\n",
    "\"\"\"\n",
    "from urllib.request import urlretrieve\n",
    "from os.path import isfile, isdir\n",
    "from tqdm import tqdm\n",
    "import problem_unittests as tests\n",
    "import tarfile\n",
    "\n",
    "cifar10_dataset_folder_path = 'cifar-10-batches-py'\n",
    "\n",
    "# Use Floyd's cifar-10 dataset if present\n",
    "floyd_cifar10_location = '/input/cifar-10/python.tar.gz'\n",
    "if isfile(floyd_cifar10_location):\n",
    "    tar_gz_path = floyd_cifar10_location\n",
    "else:\n",
    "    tar_gz_path = 'cifar-10-python.tar.gz'\n",
    "\n",
    "class DLProgress(tqdm):\n",
    "    last_block = 0\n",
    "\n",
    "    def hook(self, block_num=1, block_size=1, total_size=None):\n",
    "        self.total = total_size\n",
    "        self.update((block_num - self.last_block) * block_size)\n",
    "        self.last_block = block_num\n",
    "\n",
    "if not isfile(tar_gz_path):\n",
    "    with DLProgress(unit='B', unit_scale=True, miniters=1, desc='CIFAR-10 Dataset') as pbar:\n",
    "        urlretrieve(\n",
    "            'https://www.cs.toronto.edu/~kriz/cifar-10-python.tar.gz',\n",
    "            tar_gz_path,\n",
    "            pbar.hook)\n",
    "\n",
    "if not isdir(cifar10_dataset_folder_path):\n",
    "    with tarfile.open(tar_gz_path) as tar:\n",
    "        tar.extractall()\n",
    "        tar.close()\n",
    "\n",
    "\n",
    "tests.test_folder_path(cifar10_dataset_folder_path)"
   ]
  },
  {
   "cell_type": "markdown",
   "metadata": {},
   "source": [
    "## Explore the Data\n",
    "The dataset is broken into batches to prevent your machine from running out of memory.  The CIFAR-10 dataset consists of 5 batches, named `data_batch_1`, `data_batch_2`, etc.. Each batch contains the labels and images that are one of the following:\n",
    "* airplane\n",
    "* automobile\n",
    "* bird\n",
    "* cat\n",
    "* deer\n",
    "* dog\n",
    "* frog\n",
    "* horse\n",
    "* ship\n",
    "* truck\n",
    "\n",
    "Understanding a dataset is part of making predictions on the data.  Play around with the code cell below by changing the `batch_id` and `sample_id`. The `batch_id` is the id for a batch (1-5). The `sample_id` is the id for a image and label pair in the batch.\n",
    "\n",
    "Ask yourself \"What are all possible labels?\", \"What is the range of values for the image data?\", \"Are the labels in order or random?\".  Answers to questions like these will help you preprocess the data and end up with better predictions."
   ]
  },
  {
   "cell_type": "code",
   "execution_count": 2,
   "metadata": {},
   "outputs": [
    {
     "name": "stdout",
     "output_type": "stream",
     "text": [
      "\n",
      "Stats of batch 1:\n",
      "Samples: 10000\n",
      "Label Counts: {0: 1005, 1: 974, 2: 1032, 3: 1016, 4: 999, 5: 937, 6: 1030, 7: 1001, 8: 1025, 9: 981}\n",
      "First 20 Labels: [6, 9, 9, 4, 1, 1, 2, 7, 8, 3, 4, 7, 7, 2, 9, 9, 9, 3, 2, 6]\n",
      "\n",
      "Example of Image 5:\n",
      "Image - Min Value: 0 Max Value: 252\n",
      "Image - Shape: (32, 32, 3)\n",
      "Label - Label Id: 1 Name: automobile\n"
     ]
    },
    {
     "data": {
      "image/png": "[encoded data removed]",
      "text/plain": [
       "<matplotlib.figure.Figure at 0x7f4f381b6a58>"
      ]
     },
     "metadata": {
      "image/png": {
       "height": 250,
       "width": 253
      }
     },
     "output_type": "display_data"
    }
   ],
   "source": [
    "%matplotlib inline\n",
    "%config InlineBackend.figure_format = 'retina'\n",
    "\n",
    "import helper\n",
    "import numpy as np\n",
    "\n",
    "# Explore the dataset\n",
    "batch_id = 1\n",
    "sample_id = 5\n",
    "helper.display_stats(cifar10_dataset_folder_path, batch_id, sample_id)"
   ]
  },
  {
   "cell_type": "markdown",
   "metadata": {},
   "source": [
    "## Implement Preprocess Functions\n",
    "### Normalize\n",
    "In the cell below, implement the `normalize` function to take in image data, `x`, and return it as a normalized Numpy array. The values should be in the range of 0 to 1, inclusive.  The return object should be the same shape as `x`."
   ]
  },
  {
   "cell_type": "code",
   "execution_count": 6,
   "metadata": {},
   "outputs": [
    {
     "name": "stdout",
     "output_type": "stream",
     "text": [
      "Tests Passed\n"
     ]
    }
   ],
   "source": [
    "def normalize(x):\n",
    "    \"\"\"\n",
    "    Normalize a list of sample image data in the range of 0 to 1\n",
    "    : x: List of image data.  The image shape is (32, 32, 3)\n",
    "    : return: Numpy array of normalize data\n",
    "    \"\"\"\n",
    "    \n",
    "    # TODO: Implement Function\n",
    "    a = 0\n",
    "    b = 1\n",
    "    colors_min = 0\n",
    "    colors_max = 255\n",
    "    \n",
    "    value = (a + (x - colors_min)*(b - a)) / (colors_max - colors_min)\n",
    "    return value\n",
    "    \n",
    "\n",
    "\"\"\"\n",
    "DON'T MODIFY ANYTHING IN THIS CELL THAT IS BELOW THIS LINE\n",
    "\"\"\"\n",
    "tests.test_normalize(normalize)"
   ]
  },
  {
   "cell_type": "markdown",
   "metadata": {},
   "source": [
    "### One-hot encode\n",
    "Just like the previous code cell, you'll be implementing a function for preprocessing.  This time, you'll implement the `one_hot_encode` function. The input, `x`, are a list of labels.  Implement the function to return the list of labels as One-Hot encoded Numpy array.  The possible values for labels are 0 to 9. The one-hot encoding function should return the same encoding for each value between each call to `one_hot_encode`.  Make sure to save the map of encodings outside the function.\n",
    "\n",
    "Hint: Don't reinvent the wheel."
   ]
  },
  {
   "cell_type": "code",
   "execution_count": 16,
   "metadata": {},
   "outputs": [
    {
     "name": "stdout",
     "output_type": "stream",
     "text": [
      "Tests Passed\n"
     ]
    }
   ],
   "source": [
    "from sklearn import preprocessing\n",
    "\n",
    "def one_hot_encode(x):\n",
    "    \"\"\"\n",
    "    One hot encode a list of sample labels. Return a one-hot encoded vector for each label.\n",
    "    : x: List of sample Labels\n",
    "    : return: Numpy array of one-hot encoded labels\n",
    "    \"\"\"\n",
    "    # TODO: Implement Function\n",
    "    \n",
    "    lb = preprocessing.LabelBinarizer()\n",
    "    lb.fit([0,1,2,3,4,5,6,7,8,9])\n",
    "    return lb.transform(x)\n",
    "\n",
    "\"\"\"\n",
    "DON'T MODIFY ANYTHING IN THIS CELL THAT IS BELOW THIS LINE\n",
    "\"\"\"\n",
    "tests.test_one_hot_encode(one_hot_encode)"
   ]
  },
  {
   "cell_type": "markdown",
   "metadata": {},
   "source": [
    "### Randomize Data\n",
    "As you saw from exploring the data above, the order of the samples are randomized.  It doesn't hurt to randomize it again, but you don't need to for this dataset."
   ]
  },
  {
   "cell_type": "markdown",
   "metadata": {},
   "source": [
    "## Preprocess all the data and save it\n",
    "Running the code cell below will preprocess all the CIFAR-10 data and save it to file. The code below also uses 10% of the training data for validation."
   ]
  },
  {
   "cell_type": "code",
   "execution_count": 17,
   "metadata": {},
   "outputs": [],
   "source": [
    "\"\"\"\n",
    "DON'T MODIFY ANYTHING IN THIS CELL\n",
    "\"\"\"\n",
    "# Preprocess Training, Validation, and Testing Data\n",
    "helper.preprocess_and_save_data(cifar10_dataset_folder_path, normalize, one_hot_encode)"
   ]
  },
  {
   "cell_type": "markdown",
   "metadata": {},
   "source": [
    "# Check Point\n",
    "This is your first checkpoint.  If you ever decide to come back to this notebook or have to restart the notebook, you can start from here.  The preprocessed data has been saved to disk."
   ]
  },
  {
   "cell_type": "code",
   "execution_count": 18,
   "metadata": {
    "collapsed": true
   },
   "outputs": [],
   "source": [
    "\"\"\"\n",
    "DON'T MODIFY ANYTHING IN THIS CELL\n",
    "\"\"\"\n",
    "import pickle\n",
    "import problem_unittests as tests\n",
    "import helper\n",
    "\n",
    "# Load the Preprocessed Validation data\n",
    "valid_features, valid_labels = pickle.load(open('preprocess_validation.p', mode='rb'))"
   ]
  },
  {
   "cell_type": "markdown",
   "metadata": {},
   "source": [
    "## Build the network\n",
    "For the neural network, you'll build each layer into a function.  Most of the code you've seen has been outside of functions. To test your code more thoroughly, we require that you put each layer in a function.  This allows us to give you better feedback and test for simple mistakes using our unittests before you submit your project.\n",
    "\n",
    ">**Note:** If you're finding it hard to dedicate enough time for this course each week, we've provided a small shortcut to this part of the project. In the next couple of problems, you'll have the option to use classes from the [TensorFlow Layers](https://www.tensorflow.org/api_docs/python/tf/layers) or [TensorFlow Layers (contrib)](https://www.tensorflow.org/api_guides/python/contrib.layers) packages to build each layer, except the layers you build in the \"Convolutional and Max Pooling Layer\" section.  TF Layers is similar to Keras's and TFLearn's abstraction to layers, so it's easy to pickup.\n",
    "\n",
    ">However, if you would like to get the most out of this course, try to solve all the problems _without_ using anything from the TF Layers packages. You **can** still use classes from other packages that happen to have the same name as ones you find in TF Layers! For example, instead of using the TF Layers version of the `conv2d` class, [tf.layers.conv2d](https://www.tensorflow.org/api_docs/python/tf/layers/conv2d), you would want to use the TF Neural Network version of `conv2d`, [tf.nn.conv2d](https://www.tensorflow.org/api_docs/python/tf/nn/conv2d). \n",
    "\n",
    "Let's begin!\n",
    "\n",
    "### Input\n",
    "The neural network needs to read the image data, one-hot encoded labels, and dropout keep probability. Implement the following functions\n",
    "* Implement `neural_net_image_input`\n",
    " * Return a [TF Placeholder](https://www.tensorflow.org/api_docs/python/tf/placeholder)\n",
    " * Set the shape using `image_shape` with batch size set to `None`.\n",
    " * Name the TensorFlow placeholder \"x\" using the TensorFlow `name` parameter in the [TF Placeholder](https://www.tensorflow.org/api_docs/python/tf/placeholder).\n",
    "* Implement `neural_net_label_input`\n",
    " * Return a [TF Placeholder](https://www.tensorflow.org/api_docs/python/tf/placeholder)\n",
    " * Set the shape using `n_classes` with batch size set to `None`.\n",
    " * Name the TensorFlow placeholder \"y\" using the TensorFlow `name` parameter in the [TF Placeholder](https://www.tensorflow.org/api_docs/python/tf/placeholder).\n",
    "* Implement `neural_net_keep_prob_input`\n",
    " * Return a [TF Placeholder](https://www.tensorflow.org/api_docs/python/tf/placeholder) for dropout keep probability.\n",
    " * Name the TensorFlow placeholder \"keep_prob\" using the TensorFlow `name` parameter in the [TF Placeholder](https://www.tensorflow.org/api_docs/python/tf/placeholder).\n",
    "\n",
    "These names will be used at the end of the project to load your saved model.\n",
    "\n",
    "Note: `None` for shapes in TensorFlow allow for a dynamic size."
   ]
  },
  {
   "cell_type": "code",
   "execution_count": 33,
   "metadata": {},
   "outputs": [
    {
     "name": "stdout",
     "output_type": "stream",
     "text": [
      "Image Input Tests Passed.\n",
      "Label Input Tests Passed.\n",
      "Keep Prob Tests Passed.\n"
     ]
    }
   ],
   "source": [
    "import tensorflow as tf\n",
    "\n",
    "def neural_net_image_input(image_shape):\n",
    "    \"\"\"\n",
    "    Return a Tensor for a batch of image input\n",
    "    : image_shape: Shape of the images\n",
    "    : return: Tensor for image input.\n",
    "    \"\"\"\n",
    "    image = list(image_shape)\n",
    "    image.insert(0, None)\n",
    "    \n",
    "    # TODO: Implement Function\n",
    "    x = tf.placeholder(tf.float32, shape=image, name='x')\n",
    "    return x\n",
    "\n",
    "\n",
    "def neural_net_label_input(n_classes):\n",
    "    \"\"\"\n",
    "    Return a Tensor for a batch of label input\n",
    "    : n_classes: Number of classes\n",
    "    : return: Tensor for label input.\n",
    "    \"\"\"\n",
    "    # TODO: Implement Function\n",
    "    y = tf.placeholder(tf.float32, [None,n_classes], name='y')\n",
    "    return y\n",
    "\n",
    "\n",
    "def neural_net_keep_prob_input():\n",
    "    \"\"\"\n",
    "    Return a Tensor for keep probability\n",
    "    : return: Tensor for keep probability.\n",
    "    \"\"\"\n",
    "    # TODO: Implement Function\n",
    "    keep_prob = tf.placeholder(tf.float32, shape=None, name='keep_prob')\n",
    "    return keep_prob\n",
    "\n",
    "\n",
    "\"\"\"\n",
    "DON'T MODIFY ANYTHING IN THIS CELL THAT IS BELOW THIS LINE\n",
    "\"\"\"\n",
    "tf.reset_default_graph()\n",
    "tests.test_nn_image_inputs(neural_net_image_input)\n",
    "tests.test_nn_label_inputs(neural_net_label_input)\n",
    "tests.test_nn_keep_prob_inputs(neural_net_keep_prob_input)"
   ]
  },
  {
   "cell_type": "markdown",
   "metadata": {},
   "source": [
    "### Convolution and Max Pooling Layer\n",
    "Convolution layers have a lot of success with images. For this code cell, you should implement the function `conv2d_maxpool` to apply convolution then max pooling:\n",
    "* Create the weight and bias using `conv_ksize`, `conv_num_outputs` and the shape of `x_tensor`.\n",
    "* Apply a convolution to `x_tensor` using weight and `conv_strides`.\n",
    " * We recommend you use same padding, but you're welcome to use any padding.\n",
    "* Add bias\n",
    "* Add a nonlinear activation to the convolution.\n",
    "* Apply Max Pooling using `pool_ksize` and `pool_strides`.\n",
    " * We recommend you use same padding, but you're welcome to use any padding.\n",
    "\n",
    "**Note:** You **can't** use [TensorFlow Layers](https://www.tensorflow.org/api_docs/python/tf/layers) or [TensorFlow Layers (contrib)](https://www.tensorflow.org/api_guides/python/contrib.layers) for **this** layer, but you can still use TensorFlow's [Neural Network](https://www.tensorflow.org/api_docs/python/tf/nn) package. You may still use the shortcut option for all the **other** layers."
   ]
  },
  {
   "cell_type": "code",
   "execution_count": 74,
   "metadata": {},
   "outputs": [
    {
     "name": "stdout",
     "output_type": "stream",
     "text": [
      "Tests Passed\n"
     ]
    }
   ],
   "source": [
    "def conv2d_maxpool(x_tensor, conv_num_outputs, conv_ksize, conv_strides, pool_ksize, pool_strides):\n",
    "    \"\"\"\n",
    "    Apply convolution then max pooling to x_tensor\n",
    "    :param x_tensor: TensorFlow Tensor\n",
    "    :param conv_num_outputs: Number of outputs for the convolutional layer\n",
    "    :param conv_ksize: kernal size 2-D Tuple for the convolutional layer\n",
    "    :param conv_strides: Stride 2-D Tuple for convolution\n",
    "    :param pool_ksize: kernal size 2-D Tuple for pool\n",
    "    :param pool_strides: Stride 2-D Tuple for pool\n",
    "    : return: A tensor that represents convolution and max pooling of x_tensor\n",
    "    \"\"\"\n",
    "    \n",
    "    # Create the weight and bias using `conv_ksize`, `conv_num_outputs` and the shape of `x_tensor`.\n",
    "    input_width, input_height = conv_ksize\n",
    "    weight_shape = [input_width, input_height, x_tensor.shape[3].value, conv_num_outputs]\n",
    "    \n",
    "    weight = tf.Variable(tf.truncated_normal(shape=weight_shape, stddev=0.1))\n",
    "    bias = tf.Variable(tf.zeros(conv_num_outputs))\n",
    "\n",
    "    # Apply a convolution to `x_tensor` using weight and `conv_strides`.\n",
    "    conv_layer = tf.nn.conv2d(x_tensor, weight, strides=[1, conv_strides[0], conv_strides[1], 1], padding='SAME')\n",
    "    # Add bias\n",
    "    conv_layer = tf.nn.bias_add(conv_layer, bias)\n",
    "    # Apply activation function\n",
    "    conv_layer = tf.nn.relu(conv_layer)\n",
    "    \n",
    "    x = tf.nn.max_pool(\n",
    "        conv_layer,\n",
    "        (1,pool_ksize[0],pool_ksize[1],1),\n",
    "        (1,pool_strides[0],pool_strides[1],1),\n",
    "        padding='SAME'\n",
    "    )\n",
    "    \n",
    "    return x\n",
    "\n",
    "\"\"\"\n",
    "DON'T MODIFY ANYTHING IN THIS CELL THAT IS BELOW THIS LINE\n",
    "\"\"\"\n",
    "tests.test_con_pool(conv2d_maxpool)"
   ]
  },
  {
   "cell_type": "markdown",
   "metadata": {},
   "source": [
    "### Flatten Layer\n",
    "Implement the `flatten` function to change the dimension of `x_tensor` from a 4-D tensor to a 2-D tensor.  The output should be the shape (*Batch Size*, *Flattened Image Size*). Shortcut option: you can use classes from the [TensorFlow Layers](https://www.tensorflow.org/api_docs/python/tf/layers) or [TensorFlow Layers (contrib)](https://www.tensorflow.org/api_guides/python/contrib.layers) packages for this layer. For more of a challenge, only use other TensorFlow packages."
   ]
  },
  {
   "cell_type": "code",
   "execution_count": 77,
   "metadata": {},
   "outputs": [
    {
     "name": "stdout",
     "output_type": "stream",
     "text": [
      "Tensor(\"Flatten_2/Reshape:0\", shape=(?, 1800), dtype=float32)\n",
      "Tests Passed\n"
     ]
    }
   ],
   "source": [
    "def flatten(x_tensor):\n",
    "    \"\"\"\n",
    "    Flatten x_tensor to (Batch Size, Flattened Image Size)\n",
    "    : x_tensor: A tensor of size (Batch Size, ...), where ... are the image dimensions.\n",
    "    : return: A tensor of size (Batch Size, Flattened Image Size).\n",
    "    \"\"\"\n",
    "    # TODO: Implement Function\n",
    "    \n",
    "    print(tf.contrib.layers.flatten(x_tensor))\n",
    "    return tf.contrib.layers.flatten(x_tensor)\n",
    "    \n",
    "\n",
    "\n",
    "\"\"\"\n",
    "DON'T MODIFY ANYTHING IN THIS CELL THAT IS BELOW THIS LINE\n",
    "\"\"\"\n",
    "tests.test_flatten(flatten)"
   ]
  },
  {
   "cell_type": "markdown",
   "metadata": {},
   "source": [
    "### Fully-Connected Layer\n",
    "Implement the `fully_conn` function to apply a fully connected layer to `x_tensor` with the shape (*Batch Size*, *num_outputs*). Shortcut option: you can use classes from the [TensorFlow Layers](https://www.tensorflow.org/api_docs/python/tf/layers) or [TensorFlow Layers (contrib)](https://www.tensorflow.org/api_guides/python/contrib.layers) packages for this layer. For more of a challenge, only use other TensorFlow packages."
   ]
  },
  {
   "cell_type": "code",
   "execution_count": 80,
   "metadata": {},
   "outputs": [
    {
     "name": "stdout",
     "output_type": "stream",
     "text": [
      "Tensor(\"fully_connected_2/Relu:0\", shape=(?, 40), dtype=float32)\n",
      "Tests Passed\n"
     ]
    }
   ],
   "source": [
    "def fully_conn(x_tensor, num_outputs):\n",
    "    \"\"\"\n",
    "    Apply a fully connected layer to x_tensor using weight and bias\n",
    "    : x_tensor: A 2-D tensor where the first dimension is batch size.\n",
    "    : num_outputs: The number of output that the new tensor should be.\n",
    "    : return: A 2-D tensor where the second dimension is num_outputs.\n",
    "    \"\"\"\n",
    "    # TODO: Implement Function\n",
    "    \n",
    "    return tf.contrib.layers.fully_connected(\n",
    "        x_tensor,\n",
    "        num_outputs\n",
    "    )\n",
    "\n",
    "\"\"\"\n",
    "DON'T MODIFY ANYTHING IN THIS CELL THAT IS BELOW THIS LINE\n",
    "\"\"\"\n",
    "tests.test_fully_conn(fully_conn)"
   ]
  },
  {
   "cell_type": "markdown",
   "metadata": {},
   "source": [
    "### Output Layer\n",
    "Implement the `output` function to apply a fully connected layer to `x_tensor` with the shape (*Batch Size*, *num_outputs*). Shortcut option: you can use classes from the [TensorFlow Layers](https://www.tensorflow.org/api_docs/python/tf/layers) or [TensorFlow Layers (contrib)](https://www.tensorflow.org/api_guides/python/contrib.layers) packages for this layer. For more of a challenge, only use other TensorFlow packages.\n",
    "\n",
    "**Note:** Activation, softmax, or cross entropy should **not** be applied to this."
   ]
  },
  {
   "cell_type": "code",
   "execution_count": 84,
   "metadata": {},
   "outputs": [
    {
     "name": "stdout",
     "output_type": "stream",
     "text": [
      "Tests Passed\n"
     ]
    }
   ],
   "source": [
    "def output(x_tensor, num_outputs):\n",
    "    \"\"\"\n",
    "    Apply a output layer to x_tensor using weight and bias\n",
    "    : x_tensor: A 2-D tensor where the first dimension is batch size.\n",
    "    : num_outputs: The number of output that the new tensor should be.\n",
    "    : return: A 2-D tensor where the second dimension is num_outputs.\n",
    "    \"\"\"\n",
    "    # TODO: Implement Function\n",
    "    logits = tf.layers.dense(inputs=x_tensor, units=num_outputs, activation=None)\n",
    "\n",
    "    return logits\n",
    "\n",
    "\n",
    "\"\"\"\n",
    "DON'T MODIFY ANYTHING IN THIS CELL THAT IS BELOW THIS LINE\n",
    "\"\"\"\n",
    "tests.test_output(output)"
   ]
  },
  {
   "cell_type": "markdown",
   "metadata": {},
   "source": [
    "### Create Convolutional Model\n",
    "Implement the function `conv_net` to create a convolutional neural network model. The function takes in a batch of images, `x`, and outputs logits.  Use the layers you created above to create this model:\n",
    "\n",
    "* Apply 1, 2, or 3 Convolution and Max Pool layers\n",
    "* Apply a Flatten Layer\n",
    "* Apply 1, 2, or 3 Fully Connected Layers\n",
    "* Apply an Output Layer\n",
    "* Return the output\n",
    "* Apply [TensorFlow's Dropout](https://www.tensorflow.org/api_docs/python/tf/nn/dropout) to one or more layers in the model using `keep_prob`. "
   ]
  },
  {
   "cell_type": "code",
   "execution_count": 221,
   "metadata": {},
   "outputs": [
    {
     "name": "stdout",
     "output_type": "stream",
     "text": [
      "Tensor(\"Flatten/Reshape:0\", shape=(?, 1024), dtype=float32)\n",
      "Tensor(\"fully_connected/Relu:0\", shape=(?, 256), dtype=float32)\n",
      "Tensor(\"Flatten_2/Reshape:0\", shape=(?, 1024), dtype=float32)\n",
      "Tensor(\"fully_connected_2/Relu:0\", shape=(?, 256), dtype=float32)\n",
      "Neural Network Built!\n"
     ]
    }
   ],
   "source": [
    "def conv_net(x, keep_prob):\n",
    "    \"\"\"\n",
    "    Create a convolutional neural network model\n",
    "    : x: Placeholder tensor that holds image data.\n",
    "    : keep_prob: Placeholder tensor that hold dropout keep probability.\n",
    "    : return: Tensor that represents logits\n",
    "    \"\"\"\n",
    "    # TODO: Apply 1, 2, or 3 Convolution and Max Pool layers\n",
    "    #    Play around with different number of outputs, kernel size and stride\n",
    "    # Function Definition from Above:\n",
    "    #    conv2d_maxpool(x_tensor, conv_num_outputs, conv_ksize, conv_strides, pool_ksize, pool_strides)\n",
    "    \"\"\"\n",
    "    :param conv_num_outputs: Number of outputs for the convolutional layer\n",
    "    :param conv_ksize: kernal size 2-D Tuple for the convolutional layer\n",
    "    :param conv_strides: Stride 2-D Tuple for convolution\n",
    "    :param pool_ksize: kernal size 2-D Tuple for pool\n",
    "    :param pool_strides: Stride 2-D Tuple for pool\n",
    "    : return: A tensor that represents convolution and max pooling of x_tensor\n",
    "    \"\"\"\n",
    "    layer_conv_1 = conv2d_maxpool(x, 128, (4,4), (2,2), (4,4), (2,2))\n",
    "    layer_conn_1 = tf.nn.dropout(layer_conv_1, keep_prob)\n",
    "    layer_conv_2 = conv2d_maxpool(layer_conv_1, 256, (4,4), (2,2), (4,4), (2,2))\n",
    "\n",
    "    \n",
    "    # TODO: Apply a Flatten Layer\n",
    "    # Function Definition from Above:\n",
    "    #   flatten(x_tensor)\n",
    "    layer_flatten_1 = flatten(layer_conv_2)\n",
    "    \n",
    "\n",
    "    # TODO: Apply 1, 2, or 3 Fully Connected Layers\n",
    "    #    Play around with different number of outputs\n",
    "    # Function Definition from Above:\n",
    "    #   fully_conn(x_tensor, num_outputs)\n",
    "    fully_conn_1 = fully_conn(layer_flatten_1, 256)\n",
    "    fully_conn_1 = tf.nn.dropout(fully_conn_1, keep_prob)\n",
    "    \n",
    "    \n",
    "    # TODO: Apply an Output Layer\n",
    "    #    Set this to the number of classes\n",
    "    # Function Definition from Above:\n",
    "    #   output(x_tensor, num_outputs)\n",
    "    final_output = output(fully_conn_1, 10)\n",
    "    \n",
    "    \n",
    "    # TODO: return output\n",
    "    return final_output\n",
    "\n",
    "\n",
    "\"\"\"\n",
    "DON'T MODIFY ANYTHING IN THIS CELL THAT IS BELOW THIS LINE\n",
    "\"\"\"\n",
    "\n",
    "##############################\n",
    "## Build the Neural Network ##\n",
    "##############################\n",
    "\n",
    "# Remove previous weights, bias, inputs, etc..\n",
    "tf.reset_default_graph()\n",
    "\n",
    "# Inputs\n",
    "x = neural_net_image_input((32, 32, 3))\n",
    "y = neural_net_label_input(10)\n",
    "keep_prob = neural_net_keep_prob_input()\n",
    "\n",
    "# Model\n",
    "logits = conv_net(x, keep_prob)\n",
    "\n",
    "# Name logits Tensor, so that is can be loaded from disk after training\n",
    "logits = tf.identity(logits, name='logits')\n",
    "\n",
    "# Loss and Optimizer\n",
    "cost = tf.reduce_mean(tf.nn.softmax_cross_entropy_with_logits(logits=logits, labels=y))\n",
    "optimizer = tf.train.AdamOptimizer().minimize(cost)\n",
    "\n",
    "# Accuracy\n",
    "correct_pred = tf.equal(tf.argmax(logits, 1), tf.argmax(y, 1))\n",
    "accuracy = tf.reduce_mean(tf.cast(correct_pred, tf.float32), name='accuracy')\n",
    "\n",
    "tests.test_conv_net(conv_net)"
   ]
  },
  {
   "cell_type": "markdown",
   "metadata": {},
   "source": [
    "## Train the Neural Network\n",
    "### Single Optimization\n",
    "Implement the function `train_neural_network` to do a single optimization.  The optimization should use `optimizer` to optimize in `session` with a `feed_dict` of the following:\n",
    "* `x` for image input\n",
    "* `y` for labels\n",
    "* `keep_prob` for keep probability for dropout\n",
    "\n",
    "This function will be called for each batch, so `tf.global_variables_initializer()` has already been called.\n",
    "\n",
    "Note: Nothing needs to be returned. This function is only optimizing the neural network."
   ]
  },
  {
   "cell_type": "code",
   "execution_count": 222,
   "metadata": {},
   "outputs": [
    {
     "name": "stdout",
     "output_type": "stream",
     "text": [
      "Tests Passed\n"
     ]
    }
   ],
   "source": [
    "def train_neural_network(session, optimizer, keep_probability, feature_batch, label_batch):\n",
    "    \"\"\"\n",
    "    Optimize the session on a batch of images and labels\n",
    "    : session: Current TensorFlow session\n",
    "    : optimizer: TensorFlow optimizer function\n",
    "    : keep_probability: keep probability\n",
    "    : feature_batch: Batch of Numpy image data\n",
    "    : label_batch: Batch of Numpy label data\n",
    "    \"\"\"\n",
    "    # TODO: Implement Function\n",
    "    session.run(optimizer, feed_dict={x: feature_batch, y: label_batch, keep_prob: keep_probability})\n",
    "\n",
    "\"\"\"\n",
    "DON'T MODIFY ANYTHING IN THIS CELL THAT IS BELOW THIS LINE\n",
    "\"\"\"\n",
    "tests.test_train_nn(train_neural_network)"
   ]
  },
  {
   "cell_type": "markdown",
   "metadata": {},
   "source": [
    "### Show Stats\n",
    "Implement the function `print_stats` to print loss and validation accuracy.  Use the global variables `valid_features` and `valid_labels` to calculate validation accuracy.  Use a keep probability of `1.0` to calculate the loss and validation accuracy."
   ]
  },
  {
   "cell_type": "code",
   "execution_count": 223,
   "metadata": {},
   "outputs": [],
   "source": [
    "from tqdm import tqdm\n",
    "\n",
    "def print_stats(session, feature_batch, label_batch, cost, accuracy):\n",
    "    \"\"\"\n",
    "    Print information about loss and validation accuracy\n",
    "    : session: Current TensorFlow session\n",
    "    : feature_batch: Batch of Numpy image data\n",
    "    : label_batch: Batch of Numpy label data\n",
    "    : cost: TensorFlow cost function\n",
    "    : accuracy: TensorFlow accuracy function\n",
    "    \"\"\"\n",
    "    # TODO: Implement Function\n",
    "    cost = sess.run(cost, feed_dict={x: feature_batch, y: label_batch, keep_prob: 1.})\n",
    "    acc = sess.run(accuracy, feed_dict={x: valid_features, y: valid_labels, keep_prob: 1.})\n",
    "    print('Loss: ', cost, ' Accuracy: ', acc)\n"
   ]
  },
  {
   "cell_type": "markdown",
   "metadata": {},
   "source": [
    "### Hyperparameters\n",
    "Tune the following parameters:\n",
    "* Set `epochs` to the number of iterations until the network stops learning or start overfitting\n",
    "* Set `batch_size` to the highest number that your machine has memory for.  Most people set them to common sizes of memory:\n",
    " * 64\n",
    " * 128\n",
    " * 256\n",
    " * ...\n",
    "* Set `keep_probability` to the probability of keeping a node using dropout"
   ]
  },
  {
   "cell_type": "code",
   "execution_count": 228,
   "metadata": {
    "collapsed": true
   },
   "outputs": [],
   "source": [
    "# TODO: Tune Parameters\n",
    "epochs = 60\n",
    "batch_size = 512\n",
    "keep_probability = 0.7"
   ]
  },
  {
   "cell_type": "markdown",
   "metadata": {},
   "source": [
    "### Train on a Single CIFAR-10 Batch\n",
    "Instead of training the neural network on all the CIFAR-10 batches of data, let's use a single batch. This should save time while you iterate on the model to get a better accuracy.  Once the final validation accuracy is 50% or greater, run the model on all the data in the next section."
   ]
  },
  {
   "cell_type": "code",
   "execution_count": 229,
   "metadata": {},
   "outputs": [
    {
     "name": "stdout",
     "output_type": "stream",
     "text": [
      "Checking the Training on a Single Batch...\n",
      "Epoch  1, CIFAR-10 Batch 1:  Loss:  2.22746  Accuracy:  0.1914\n",
      "Epoch  2, CIFAR-10 Batch 1:  Loss:  1.99102  Accuracy:  0.3156\n",
      "Epoch  3, CIFAR-10 Batch 1:  Loss:  1.77027  Accuracy:  0.3906\n",
      "Epoch  4, CIFAR-10 Batch 1:  Loss:  1.60786  Accuracy:  0.437\n",
      "Epoch  5, CIFAR-10 Batch 1:  Loss:  1.48987  Accuracy:  0.4488\n",
      "Epoch  6, CIFAR-10 Batch 1:  Loss:  1.35979  Accuracy:  0.4798\n",
      "Epoch  7, CIFAR-10 Batch 1:  Loss:  1.27309  Accuracy:  0.5022\n",
      "Epoch  8, CIFAR-10 Batch 1:  Loss:  1.20538  Accuracy:  0.5058\n",
      "Epoch  9, CIFAR-10 Batch 1:  Loss:  1.16422  Accuracy:  0.5192\n",
      "Epoch 10, CIFAR-10 Batch 1:  Loss:  1.05224  Accuracy:  0.5476\n",
      "Epoch 11, CIFAR-10 Batch 1:  Loss:  1.00275  Accuracy:  0.5582\n",
      "Epoch 12, CIFAR-10 Batch 1:  Loss:  0.964823  Accuracy:  0.5532\n",
      "Epoch 13, CIFAR-10 Batch 1:  Loss:  0.881901  Accuracy:  0.5678\n",
      "Epoch 14, CIFAR-10 Batch 1:  Loss:  0.814048  Accuracy:  0.583\n",
      "Epoch 15, CIFAR-10 Batch 1:  Loss:  0.792989  Accuracy:  0.5848\n",
      "Epoch 16, CIFAR-10 Batch 1:  Loss:  0.745216  Accuracy:  0.5882\n",
      "Epoch 17, CIFAR-10 Batch 1:  Loss:  0.716422  Accuracy:  0.5834\n",
      "Epoch 18, CIFAR-10 Batch 1:  Loss:  0.611969  Accuracy:  0.6128\n",
      "Epoch 19, CIFAR-10 Batch 1:  Loss:  0.600125  Accuracy:  0.6004\n",
      "Epoch 20, CIFAR-10 Batch 1:  Loss:  0.590746  Accuracy:  0.5862\n",
      "Epoch 21, CIFAR-10 Batch 1:  Loss:  0.49895  Accuracy:  0.6244\n",
      "Epoch 22, CIFAR-10 Batch 1:  Loss:  0.461211  Accuracy:  0.6244\n",
      "Epoch 23, CIFAR-10 Batch 1:  Loss:  0.437844  Accuracy:  0.622\n",
      "Epoch 24, CIFAR-10 Batch 1:  Loss:  0.4395  Accuracy:  0.5952\n",
      "Epoch 25, CIFAR-10 Batch 1:  Loss:  0.362438  Accuracy:  0.6144\n",
      "Epoch 26, CIFAR-10 Batch 1:  Loss:  0.327791  Accuracy:  0.6274\n",
      "Epoch 27, CIFAR-10 Batch 1:  Loss:  0.294452  Accuracy:  0.629\n",
      "Epoch 28, CIFAR-10 Batch 1:  Loss:  0.286663  Accuracy:  0.6288\n",
      "Epoch 29, CIFAR-10 Batch 1:  Loss:  0.255719  Accuracy:  0.623\n",
      "Epoch 30, CIFAR-10 Batch 1:  Loss:  0.243362  Accuracy:  0.6276\n",
      "Epoch 31, CIFAR-10 Batch 1:  Loss:  0.237196  Accuracy:  0.6272\n",
      "Epoch 32, CIFAR-10 Batch 1:  Loss:  0.199649  Accuracy:  0.6324\n",
      "Epoch 33, CIFAR-10 Batch 1:  Loss:  0.18995  Accuracy:  0.631\n",
      "Epoch 34, CIFAR-10 Batch 1:  Loss:  0.17119  Accuracy:  0.6296\n",
      "Epoch 35, CIFAR-10 Batch 1:  Loss:  0.167332  Accuracy:  0.6246\n",
      "Epoch 36, CIFAR-10 Batch 1:  Loss:  0.142091  Accuracy:  0.6184\n",
      "Epoch 37, CIFAR-10 Batch 1:  Loss:  0.263154  Accuracy:  0.566\n",
      "Epoch 38, CIFAR-10 Batch 1:  Loss:  0.171839  Accuracy:  0.6096\n",
      "Epoch 39, CIFAR-10 Batch 1:  Loss:  0.334779  Accuracy:  0.5598\n",
      "Epoch 40, CIFAR-10 Batch 1:  Loss:  0.143136  Accuracy:  0.6108\n",
      "Epoch 41, CIFAR-10 Batch 1:  Loss:  0.134398  Accuracy:  0.6046\n",
      "Epoch 42, CIFAR-10 Batch 1:  Loss:  0.132453  Accuracy:  0.6116\n",
      "Epoch 43, CIFAR-10 Batch 1:  Loss:  0.112245  Accuracy:  0.6222\n",
      "Epoch 44, CIFAR-10 Batch 1:  Loss:  0.132804  Accuracy:  0.5918\n",
      "Epoch 45, CIFAR-10 Batch 1:  Loss:  0.0927079  Accuracy:  0.6118\n",
      "Epoch 46, CIFAR-10 Batch 1:  Loss:  0.108541  Accuracy:  0.5984\n",
      "Epoch 47, CIFAR-10 Batch 1:  Loss:  0.112484  Accuracy:  0.6022\n",
      "Epoch 48, CIFAR-10 Batch 1:  Loss:  0.178249  Accuracy:  0.5802\n",
      "Epoch 49, CIFAR-10 Batch 1:  Loss:  0.110304  Accuracy:  0.615\n",
      "Epoch 50, CIFAR-10 Batch 1:  Loss:  0.063766  Accuracy:  0.63\n",
      "Epoch 51, CIFAR-10 Batch 1:  Loss:  0.0483129  Accuracy:  0.6242\n",
      "Epoch 52, CIFAR-10 Batch 1:  Loss:  0.044206  Accuracy:  0.6232\n",
      "Epoch 53, CIFAR-10 Batch 1:  Loss:  0.0366293  Accuracy:  0.6224\n",
      "Epoch 54, CIFAR-10 Batch 1:  Loss:  0.0443766  Accuracy:  0.6202\n",
      "Epoch 55, CIFAR-10 Batch 1:  Loss:  0.0556933  Accuracy:  0.6022\n",
      "Epoch 56, CIFAR-10 Batch 1:  Loss:  0.0521629  Accuracy:  0.598\n",
      "Epoch 57, CIFAR-10 Batch 1:  Loss:  0.0959152  Accuracy:  0.5878\n",
      "Epoch 58, CIFAR-10 Batch 1:  Loss:  0.0429514  Accuracy:  0.6232\n",
      "Epoch 59, CIFAR-10 Batch 1:  Loss:  0.0694732  Accuracy:  0.5866\n",
      "Epoch 60, CIFAR-10 Batch 1:  Loss:  0.0661917  Accuracy:  0.5818\n"
     ]
    }
   ],
   "source": [
    "\"\"\"\n",
    "DON'T MODIFY ANYTHING IN THIS CELL\n",
    "\"\"\"\n",
    "print('Checking the Training on a Single Batch...')\n",
    "with tf.Session() as sess:\n",
    "    # Initializing the variables\n",
    "    sess.run(tf.global_variables_initializer())\n",
    "    \n",
    "    # Training cycle\n",
    "    for epoch in range(epochs):\n",
    "        batch_i = 1\n",
    "        for batch_features, batch_labels in helper.load_preprocess_training_batch(batch_i, batch_size):\n",
    "            train_neural_network(sess, optimizer, keep_probability, batch_features, batch_labels)\n",
    "        print('Epoch {:>2}, CIFAR-10 Batch {}:  '.format(epoch + 1, batch_i), end='')\n",
    "        print_stats(sess, batch_features, batch_labels, cost, accuracy)"
   ]
  },
  {
   "cell_type": "markdown",
   "metadata": {},
   "source": [
    "### Fully Train the Model\n",
    "Now that you got a good accuracy with a single CIFAR-10 batch, try it with all five batches."
   ]
  },
  {
   "cell_type": "code",
   "execution_count": 230,
   "metadata": {},
   "outputs": [
    {
     "name": "stdout",
     "output_type": "stream",
     "text": [
      "Training...\n",
      "Epoch  1, CIFAR-10 Batch 1:  Loss:  2.21626  Accuracy:  0.2336\n",
      "Epoch  1, CIFAR-10 Batch 2:  Loss:  1.92373  Accuracy:  0.2986\n",
      "Epoch  1, CIFAR-10 Batch 3:  Loss:  1.71415  Accuracy:  0.3668\n",
      "Epoch  1, CIFAR-10 Batch 4:  Loss:  1.55095  Accuracy:  0.4162\n",
      "Epoch  1, CIFAR-10 Batch 5:  Loss:  1.54421  Accuracy:  0.4422\n",
      "Epoch  2, CIFAR-10 Batch 1:  Loss:  1.54472  Accuracy:  0.4662\n",
      "Epoch  2, CIFAR-10 Batch 2:  Loss:  1.44277  Accuracy:  0.495\n",
      "Epoch  2, CIFAR-10 Batch 3:  Loss:  1.26757  Accuracy:  0.493\n",
      "Epoch  2, CIFAR-10 Batch 4:  Loss:  1.23686  Accuracy:  0.5238\n",
      "Epoch  2, CIFAR-10 Batch 5:  Loss:  1.27494  Accuracy:  0.5398\n",
      "Epoch  3, CIFAR-10 Batch 1:  Loss:  1.30143  Accuracy:  0.544\n",
      "Epoch  3, CIFAR-10 Batch 2:  Loss:  1.24045  Accuracy:  0.5304\n",
      "Epoch  3, CIFAR-10 Batch 3:  Loss:  1.0917  Accuracy:  0.5514\n",
      "Epoch  3, CIFAR-10 Batch 4:  Loss:  1.0798  Accuracy:  0.565\n",
      "Epoch  3, CIFAR-10 Batch 5:  Loss:  1.09608  Accuracy:  0.585\n",
      "Epoch  4, CIFAR-10 Batch 1:  Loss:  1.15993  Accuracy:  0.5934\n",
      "Epoch  4, CIFAR-10 Batch 2:  Loss:  1.10518  Accuracy:  0.588\n",
      "Epoch  4, CIFAR-10 Batch 3:  Loss:  0.98309  Accuracy:  0.5912\n",
      "Epoch  4, CIFAR-10 Batch 4:  Loss:  0.920109  Accuracy:  0.6174\n",
      "Epoch  4, CIFAR-10 Batch 5:  Loss:  0.957341  Accuracy:  0.6242\n",
      "Epoch  5, CIFAR-10 Batch 1:  Loss:  1.01952  Accuracy:  0.6214\n",
      "Epoch  5, CIFAR-10 Batch 2:  Loss:  0.98566  Accuracy:  0.614\n",
      "Epoch  5, CIFAR-10 Batch 3:  Loss:  0.855897  Accuracy:  0.6302\n",
      "Epoch  5, CIFAR-10 Batch 4:  Loss:  0.811802  Accuracy:  0.6408\n",
      "Epoch  5, CIFAR-10 Batch 5:  Loss:  0.849756  Accuracy:  0.6434\n",
      "Epoch  6, CIFAR-10 Batch 1:  Loss:  0.947176  Accuracy:  0.6234\n",
      "Epoch  6, CIFAR-10 Batch 2:  Loss:  0.876103  Accuracy:  0.6504\n",
      "Epoch  6, CIFAR-10 Batch 3:  Loss:  0.796841  Accuracy:  0.6236\n",
      "Epoch  6, CIFAR-10 Batch 4:  Loss:  0.735708  Accuracy:  0.6596\n",
      "Epoch  6, CIFAR-10 Batch 5:  Loss:  0.80451  Accuracy:  0.6454\n",
      "Epoch  7, CIFAR-10 Batch 1:  Loss:  0.855212  Accuracy:  0.6472\n",
      "Epoch  7, CIFAR-10 Batch 2:  Loss:  0.794517  Accuracy:  0.6694\n",
      "Epoch  7, CIFAR-10 Batch 3:  Loss:  0.736114  Accuracy:  0.6396\n",
      "Epoch  7, CIFAR-10 Batch 4:  Loss:  0.695646  Accuracy:  0.655\n",
      "Epoch  7, CIFAR-10 Batch 5:  Loss:  0.716885  Accuracy:  0.666\n",
      "Epoch  8, CIFAR-10 Batch 1:  Loss:  0.762253  Accuracy:  0.6682\n",
      "Epoch  8, CIFAR-10 Batch 2:  Loss:  0.753514  Accuracy:  0.6718\n",
      "Epoch  8, CIFAR-10 Batch 3:  Loss:  0.663073  Accuracy:  0.6598\n",
      "Epoch  8, CIFAR-10 Batch 4:  Loss:  0.669184  Accuracy:  0.658\n",
      "Epoch  8, CIFAR-10 Batch 5:  Loss:  0.637409  Accuracy:  0.6752\n",
      "Epoch  9, CIFAR-10 Batch 1:  Loss:  0.702661  Accuracy:  0.6782\n",
      "Epoch  9, CIFAR-10 Batch 2:  Loss:  0.670832  Accuracy:  0.6824\n",
      "Epoch  9, CIFAR-10 Batch 3:  Loss:  0.66213  Accuracy:  0.6382\n",
      "Epoch  9, CIFAR-10 Batch 4:  Loss:  0.586946  Accuracy:  0.688\n",
      "Epoch  9, CIFAR-10 Batch 5:  Loss:  0.577932  Accuracy:  0.6794\n",
      "Epoch 10, CIFAR-10 Batch 1:  Loss:  0.654264  Accuracy:  0.684\n",
      "Epoch 10, CIFAR-10 Batch 2:  Loss:  0.622575  Accuracy:  0.6962\n",
      "Epoch 10, CIFAR-10 Batch 3:  Loss:  0.592812  Accuracy:  0.669\n",
      "Epoch 10, CIFAR-10 Batch 4:  Loss:  0.547522  Accuracy:  0.6908\n",
      "Epoch 10, CIFAR-10 Batch 5:  Loss:  0.529932  Accuracy:  0.6872\n",
      "Epoch 11, CIFAR-10 Batch 1:  Loss:  0.605556  Accuracy:  0.6916\n",
      "Epoch 11, CIFAR-10 Batch 2:  Loss:  0.56785  Accuracy:  0.7014\n",
      "Epoch 11, CIFAR-10 Batch 3:  Loss:  0.550012  Accuracy:  0.6744\n",
      "Epoch 11, CIFAR-10 Batch 4:  Loss:  0.496666  Accuracy:  0.6938\n",
      "Epoch 11, CIFAR-10 Batch 5:  Loss:  0.536573  Accuracy:  0.6744\n",
      "Epoch 12, CIFAR-10 Batch 1:  Loss:  0.615028  Accuracy:  0.6854\n",
      "Epoch 12, CIFAR-10 Batch 2:  Loss:  0.527998  Accuracy:  0.704\n",
      "Epoch 12, CIFAR-10 Batch 3:  Loss:  0.510707  Accuracy:  0.6748\n",
      "Epoch 12, CIFAR-10 Batch 4:  Loss:  0.512596  Accuracy:  0.6792\n",
      "Epoch 12, CIFAR-10 Batch 5:  Loss:  0.455089  Accuracy:  0.692\n",
      "Epoch 13, CIFAR-10 Batch 1:  Loss:  0.534447  Accuracy:  0.6994\n",
      "Epoch 13, CIFAR-10 Batch 2:  Loss:  0.545992  Accuracy:  0.684\n",
      "Epoch 13, CIFAR-10 Batch 3:  Loss:  0.525885  Accuracy:  0.6772\n",
      "Epoch 13, CIFAR-10 Batch 4:  Loss:  0.457307  Accuracy:  0.703\n",
      "Epoch 13, CIFAR-10 Batch 5:  Loss:  0.432463  Accuracy:  0.7078\n",
      "Epoch 14, CIFAR-10 Batch 1:  Loss:  0.524104  Accuracy:  0.6852\n",
      "Epoch 14, CIFAR-10 Batch 2:  Loss:  0.499132  Accuracy:  0.6884\n",
      "Epoch 14, CIFAR-10 Batch 3:  Loss:  0.507241  Accuracy:  0.6742\n",
      "Epoch 14, CIFAR-10 Batch 4:  Loss:  0.432154  Accuracy:  0.7004\n",
      "Epoch 14, CIFAR-10 Batch 5:  Loss:  0.360739  Accuracy:  0.7146\n",
      "Epoch 15, CIFAR-10 Batch 1:  Loss:  0.463811  Accuracy:  0.6942\n",
      "Epoch 15, CIFAR-10 Batch 2:  Loss:  0.493743  Accuracy:  0.6796\n",
      "Epoch 15, CIFAR-10 Batch 3:  Loss:  0.471331  Accuracy:  0.674\n",
      "Epoch 15, CIFAR-10 Batch 4:  Loss:  0.386301  Accuracy:  0.7088\n",
      "Epoch 15, CIFAR-10 Batch 5:  Loss:  0.319092  Accuracy:  0.7216\n",
      "Epoch 16, CIFAR-10 Batch 1:  Loss:  0.453279  Accuracy:  0.6918\n",
      "Epoch 16, CIFAR-10 Batch 2:  Loss:  0.443702  Accuracy:  0.6986\n",
      "Epoch 16, CIFAR-10 Batch 3:  Loss:  0.376841  Accuracy:  0.7\n",
      "Epoch 16, CIFAR-10 Batch 4:  Loss:  0.350887  Accuracy:  0.7164\n",
      "Epoch 16, CIFAR-10 Batch 5:  Loss:  0.300371  Accuracy:  0.7174\n",
      "Epoch 17, CIFAR-10 Batch 1:  Loss:  0.395355  Accuracy:  0.7014\n",
      "Epoch 17, CIFAR-10 Batch 2:  Loss:  0.428046  Accuracy:  0.6862\n",
      "Epoch 17, CIFAR-10 Batch 3:  Loss:  0.33664  Accuracy:  0.7026\n",
      "Epoch 17, CIFAR-10 Batch 4:  Loss:  0.331629  Accuracy:  0.7084\n",
      "Epoch 17, CIFAR-10 Batch 5:  Loss:  0.298199  Accuracy:  0.7088\n",
      "Epoch 18, CIFAR-10 Batch 1:  Loss:  0.377564  Accuracy:  0.6978\n",
      "Epoch 18, CIFAR-10 Batch 2:  Loss:  0.41341  Accuracy:  0.6698\n",
      "Epoch 18, CIFAR-10 Batch 3:  Loss:  0.338118  Accuracy:  0.693\n",
      "Epoch 18, CIFAR-10 Batch 4:  Loss:  0.286141  Accuracy:  0.7166\n",
      "Epoch 18, CIFAR-10 Batch 5:  Loss:  0.295959  Accuracy:  0.71\n",
      "Epoch 19, CIFAR-10 Batch 1:  Loss:  0.357163  Accuracy:  0.6854\n",
      "Epoch 19, CIFAR-10 Batch 2:  Loss:  0.349825  Accuracy:  0.6992\n",
      "Epoch 19, CIFAR-10 Batch 3:  Loss:  0.275122  Accuracy:  0.7156\n",
      "Epoch 19, CIFAR-10 Batch 4:  Loss:  0.320419  Accuracy:  0.6866\n",
      "Epoch 19, CIFAR-10 Batch 5:  Loss:  0.264261  Accuracy:  0.711\n",
      "Epoch 20, CIFAR-10 Batch 1:  Loss:  0.305064  Accuracy:  0.7104\n",
      "Epoch 20, CIFAR-10 Batch 2:  Loss:  0.366434  Accuracy:  0.6892\n",
      "Epoch 20, CIFAR-10 Batch 3:  Loss:  0.268972  Accuracy:  0.7172\n",
      "Epoch 20, CIFAR-10 Batch 4:  Loss:  0.306828  Accuracy:  0.6998\n",
      "Epoch 20, CIFAR-10 Batch 5:  Loss:  0.249482  Accuracy:  0.7124\n",
      "Epoch 21, CIFAR-10 Batch 1:  Loss:  0.301982  Accuracy:  0.702\n",
      "Epoch 21, CIFAR-10 Batch 2:  Loss:  0.301452  Accuracy:  0.6932\n",
      "Epoch 21, CIFAR-10 Batch 3:  Loss:  0.264464  Accuracy:  0.7002\n",
      "Epoch 21, CIFAR-10 Batch 4:  Loss:  0.289283  Accuracy:  0.6798\n",
      "Epoch 21, CIFAR-10 Batch 5:  Loss:  0.249558  Accuracy:  0.7064\n",
      "Epoch 22, CIFAR-10 Batch 1:  Loss:  0.275942  Accuracy:  0.7168\n",
      "Epoch 22, CIFAR-10 Batch 2:  Loss:  0.256771  Accuracy:  0.7064\n",
      "Epoch 22, CIFAR-10 Batch 3:  Loss:  0.264307  Accuracy:  0.6902\n",
      "Epoch 22, CIFAR-10 Batch 4:  Loss:  0.304032  Accuracy:  0.6854\n",
      "Epoch 22, CIFAR-10 Batch 5:  Loss:  0.240618  Accuracy:  0.7104\n",
      "Epoch 23, CIFAR-10 Batch 1:  Loss:  0.238476  Accuracy:  0.7234\n",
      "Epoch 23, CIFAR-10 Batch 2:  Loss:  0.231009  Accuracy:  0.7058\n",
      "Epoch 23, CIFAR-10 Batch 3:  Loss:  0.241859  Accuracy:  0.6966\n",
      "Epoch 23, CIFAR-10 Batch 4:  Loss:  0.24919  Accuracy:  0.7006\n",
      "Epoch 23, CIFAR-10 Batch 5:  Loss:  0.195495  Accuracy:  0.7148\n",
      "Epoch 24, CIFAR-10 Batch 1:  Loss:  0.22262  Accuracy:  0.722\n",
      "Epoch 24, CIFAR-10 Batch 2:  Loss:  0.230674  Accuracy:  0.7004\n",
      "Epoch 24, CIFAR-10 Batch 3:  Loss:  0.212968  Accuracy:  0.7096\n",
      "Epoch 24, CIFAR-10 Batch 4:  Loss:  0.234744  Accuracy:  0.6942\n",
      "Epoch 24, CIFAR-10 Batch 5:  Loss:  0.183571  Accuracy:  0.7084\n",
      "Epoch 25, CIFAR-10 Batch 1:  Loss:  0.192311  Accuracy:  0.7186\n",
      "Epoch 25, CIFAR-10 Batch 2:  Loss:  0.187072  Accuracy:  0.7124\n",
      "Epoch 25, CIFAR-10 Batch 3:  Loss:  0.181795  Accuracy:  0.7086\n",
      "Epoch 25, CIFAR-10 Batch 4:  Loss:  0.213066  Accuracy:  0.6948\n",
      "Epoch 25, CIFAR-10 Batch 5:  Loss:  0.155499  Accuracy:  0.7102\n",
      "Epoch 26, CIFAR-10 Batch 1:  Loss:  0.186066  Accuracy:  0.7118\n",
      "Epoch 26, CIFAR-10 Batch 2:  Loss:  0.20967  Accuracy:  0.6958\n",
      "Epoch 26, CIFAR-10 Batch 3:  Loss:  0.190287  Accuracy:  0.7018\n",
      "Epoch 26, CIFAR-10 Batch 4:  Loss:  0.219486  Accuracy:  0.6716\n"
     ]
    },
    {
     "name": "stdout",
     "output_type": "stream",
     "text": [
      "Epoch 26, CIFAR-10 Batch 5:  Loss:  0.153526  Accuracy:  0.6936\n",
      "Epoch 27, CIFAR-10 Batch 1:  Loss:  0.191289  Accuracy:  0.7074\n",
      "Epoch 27, CIFAR-10 Batch 2:  Loss:  0.166345  Accuracy:  0.7\n",
      "Epoch 27, CIFAR-10 Batch 3:  Loss:  0.171946  Accuracy:  0.6992\n",
      "Epoch 27, CIFAR-10 Batch 4:  Loss:  0.2156  Accuracy:  0.678\n",
      "Epoch 27, CIFAR-10 Batch 5:  Loss:  0.187237  Accuracy:  0.6936\n",
      "Epoch 28, CIFAR-10 Batch 1:  Loss:  0.229994  Accuracy:  0.6922\n",
      "Epoch 28, CIFAR-10 Batch 2:  Loss:  0.155081  Accuracy:  0.7106\n",
      "Epoch 28, CIFAR-10 Batch 3:  Loss:  0.134773  Accuracy:  0.7118\n",
      "Epoch 28, CIFAR-10 Batch 4:  Loss:  0.188208  Accuracy:  0.678\n",
      "Epoch 28, CIFAR-10 Batch 5:  Loss:  0.157676  Accuracy:  0.6894\n",
      "Epoch 29, CIFAR-10 Batch 1:  Loss:  0.19991  Accuracy:  0.6922\n",
      "Epoch 29, CIFAR-10 Batch 2:  Loss:  0.133997  Accuracy:  0.7102\n",
      "Epoch 29, CIFAR-10 Batch 3:  Loss:  0.112432  Accuracy:  0.7146\n",
      "Epoch 29, CIFAR-10 Batch 4:  Loss:  0.186968  Accuracy:  0.684\n",
      "Epoch 29, CIFAR-10 Batch 5:  Loss:  0.131461  Accuracy:  0.6886\n",
      "Epoch 30, CIFAR-10 Batch 1:  Loss:  0.199361  Accuracy:  0.6976\n",
      "Epoch 30, CIFAR-10 Batch 2:  Loss:  0.133226  Accuracy:  0.7104\n",
      "Epoch 30, CIFAR-10 Batch 3:  Loss:  0.154519  Accuracy:  0.706\n",
      "Epoch 30, CIFAR-10 Batch 4:  Loss:  0.174607  Accuracy:  0.681\n",
      "Epoch 30, CIFAR-10 Batch 5:  Loss:  0.214283  Accuracy:  0.675\n",
      "Epoch 31, CIFAR-10 Batch 1:  Loss:  0.18409  Accuracy:  0.7098\n",
      "Epoch 31, CIFAR-10 Batch 2:  Loss:  0.1063  Accuracy:  0.717\n",
      "Epoch 31, CIFAR-10 Batch 3:  Loss:  0.189374  Accuracy:  0.6798\n",
      "Epoch 31, CIFAR-10 Batch 4:  Loss:  0.163458  Accuracy:  0.6914\n",
      "Epoch 31, CIFAR-10 Batch 5:  Loss:  0.205126  Accuracy:  0.6678\n",
      "Epoch 32, CIFAR-10 Batch 1:  Loss:  0.201992  Accuracy:  0.6968\n",
      "Epoch 32, CIFAR-10 Batch 2:  Loss:  0.107972  Accuracy:  0.7158\n",
      "Epoch 32, CIFAR-10 Batch 3:  Loss:  0.11204  Accuracy:  0.6922\n",
      "Epoch 32, CIFAR-10 Batch 4:  Loss:  0.141638  Accuracy:  0.6968\n",
      "Epoch 32, CIFAR-10 Batch 5:  Loss:  0.0993405  Accuracy:  0.6964\n",
      "Epoch 33, CIFAR-10 Batch 1:  Loss:  0.156223  Accuracy:  0.7118\n",
      "Epoch 33, CIFAR-10 Batch 2:  Loss:  0.107957  Accuracy:  0.7134\n",
      "Epoch 33, CIFAR-10 Batch 3:  Loss:  0.116435  Accuracy:  0.6862\n",
      "Epoch 33, CIFAR-10 Batch 4:  Loss:  0.130396  Accuracy:  0.696\n",
      "Epoch 33, CIFAR-10 Batch 5:  Loss:  0.0825101  Accuracy:  0.6988\n",
      "Epoch 34, CIFAR-10 Batch 1:  Loss:  0.125185  Accuracy:  0.7152\n",
      "Epoch 34, CIFAR-10 Batch 2:  Loss:  0.0860357  Accuracy:  0.7162\n",
      "Epoch 34, CIFAR-10 Batch 3:  Loss:  0.108535  Accuracy:  0.6756\n",
      "Epoch 34, CIFAR-10 Batch 4:  Loss:  0.119105  Accuracy:  0.6966\n",
      "Epoch 34, CIFAR-10 Batch 5:  Loss:  0.0831005  Accuracy:  0.6988\n",
      "Epoch 35, CIFAR-10 Batch 1:  Loss:  0.12644  Accuracy:  0.713\n",
      "Epoch 35, CIFAR-10 Batch 2:  Loss:  0.0826888  Accuracy:  0.7108\n",
      "Epoch 35, CIFAR-10 Batch 3:  Loss:  0.0894966  Accuracy:  0.699\n",
      "Epoch 35, CIFAR-10 Batch 4:  Loss:  0.098987  Accuracy:  0.6994\n",
      "Epoch 35, CIFAR-10 Batch 5:  Loss:  0.095987  Accuracy:  0.6944\n",
      "Epoch 36, CIFAR-10 Batch 1:  Loss:  0.0767819  Accuracy:  0.7192\n",
      "Epoch 36, CIFAR-10 Batch 2:  Loss:  0.0798408  Accuracy:  0.7066\n",
      "Epoch 36, CIFAR-10 Batch 3:  Loss:  0.0777203  Accuracy:  0.7066\n",
      "Epoch 36, CIFAR-10 Batch 4:  Loss:  0.0944496  Accuracy:  0.6898\n",
      "Epoch 36, CIFAR-10 Batch 5:  Loss:  0.0993552  Accuracy:  0.6934\n",
      "Epoch 37, CIFAR-10 Batch 1:  Loss:  0.066957  Accuracy:  0.7136\n",
      "Epoch 37, CIFAR-10 Batch 2:  Loss:  0.0772429  Accuracy:  0.6974\n",
      "Epoch 37, CIFAR-10 Batch 3:  Loss:  0.0575074  Accuracy:  0.7068\n",
      "Epoch 37, CIFAR-10 Batch 4:  Loss:  0.0766032  Accuracy:  0.6916\n",
      "Epoch 37, CIFAR-10 Batch 5:  Loss:  0.0967298  Accuracy:  0.6854\n",
      "Epoch 38, CIFAR-10 Batch 1:  Loss:  0.0673691  Accuracy:  0.71\n",
      "Epoch 38, CIFAR-10 Batch 2:  Loss:  0.0651747  Accuracy:  0.7192\n",
      "Epoch 38, CIFAR-10 Batch 3:  Loss:  0.0529817  Accuracy:  0.7086\n",
      "Epoch 38, CIFAR-10 Batch 4:  Loss:  0.0738398  Accuracy:  0.6928\n",
      "Epoch 38, CIFAR-10 Batch 5:  Loss:  0.0778833  Accuracy:  0.683\n",
      "Epoch 39, CIFAR-10 Batch 1:  Loss:  0.0765679  Accuracy:  0.7028\n",
      "Epoch 39, CIFAR-10 Batch 2:  Loss:  0.0603324  Accuracy:  0.7128\n",
      "Epoch 39, CIFAR-10 Batch 3:  Loss:  0.0613326  Accuracy:  0.6998\n",
      "Epoch 39, CIFAR-10 Batch 4:  Loss:  0.0629315  Accuracy:  0.692\n",
      "Epoch 39, CIFAR-10 Batch 5:  Loss:  0.0757139  Accuracy:  0.685\n",
      "Epoch 40, CIFAR-10 Batch 1:  Loss:  0.0993653  Accuracy:  0.6884\n",
      "Epoch 40, CIFAR-10 Batch 2:  Loss:  0.087905  Accuracy:  0.7004\n",
      "Epoch 40, CIFAR-10 Batch 3:  Loss:  0.057681  Accuracy:  0.6968\n",
      "Epoch 40, CIFAR-10 Batch 4:  Loss:  0.0748974  Accuracy:  0.6778\n",
      "Epoch 40, CIFAR-10 Batch 5:  Loss:  0.05229  Accuracy:  0.6904\n",
      "Epoch 41, CIFAR-10 Batch 1:  Loss:  0.0810941  Accuracy:  0.7018\n",
      "Epoch 41, CIFAR-10 Batch 2:  Loss:  0.0686134  Accuracy:  0.6964\n",
      "Epoch 41, CIFAR-10 Batch 3:  Loss:  0.0602927  Accuracy:  0.702\n",
      "Epoch 41, CIFAR-10 Batch 4:  Loss:  0.0739884  Accuracy:  0.6784\n",
      "Epoch 41, CIFAR-10 Batch 5:  Loss:  0.0627042  Accuracy:  0.6954\n",
      "Epoch 42, CIFAR-10 Batch 1:  Loss:  0.0864555  Accuracy:  0.6906\n",
      "Epoch 42, CIFAR-10 Batch 2:  Loss:  0.0769887  Accuracy:  0.702\n",
      "Epoch 42, CIFAR-10 Batch 3:  Loss:  0.0589794  Accuracy:  0.6898\n",
      "Epoch 42, CIFAR-10 Batch 4:  Loss:  0.0875273  Accuracy:  0.6828\n",
      "Epoch 42, CIFAR-10 Batch 5:  Loss:  0.0786775  Accuracy:  0.6966\n",
      "Epoch 43, CIFAR-10 Batch 1:  Loss:  0.0978087  Accuracy:  0.6822\n",
      "Epoch 43, CIFAR-10 Batch 2:  Loss:  0.087315  Accuracy:  0.6936\n",
      "Epoch 43, CIFAR-10 Batch 3:  Loss:  0.069005  Accuracy:  0.688\n",
      "Epoch 43, CIFAR-10 Batch 4:  Loss:  0.108165  Accuracy:  0.6638\n",
      "Epoch 43, CIFAR-10 Batch 5:  Loss:  0.0868234  Accuracy:  0.675\n",
      "Epoch 44, CIFAR-10 Batch 1:  Loss:  0.121179  Accuracy:  0.6748\n",
      "Epoch 44, CIFAR-10 Batch 2:  Loss:  0.0940757  Accuracy:  0.6856\n",
      "Epoch 44, CIFAR-10 Batch 3:  Loss:  0.0601541  Accuracy:  0.6862\n",
      "Epoch 44, CIFAR-10 Batch 4:  Loss:  0.146074  Accuracy:  0.648\n",
      "Epoch 44, CIFAR-10 Batch 5:  Loss:  0.0921382  Accuracy:  0.6892\n",
      "Epoch 45, CIFAR-10 Batch 1:  Loss:  0.109157  Accuracy:  0.676\n",
      "Epoch 45, CIFAR-10 Batch 2:  Loss:  0.0895756  Accuracy:  0.6866\n",
      "Epoch 45, CIFAR-10 Batch 3:  Loss:  0.0659579  Accuracy:  0.6944\n",
      "Epoch 45, CIFAR-10 Batch 4:  Loss:  0.0782973  Accuracy:  0.6818\n",
      "Epoch 45, CIFAR-10 Batch 5:  Loss:  0.0912552  Accuracy:  0.6886\n",
      "Epoch 46, CIFAR-10 Batch 1:  Loss:  0.0900443  Accuracy:  0.671\n",
      "Epoch 46, CIFAR-10 Batch 2:  Loss:  0.059525  Accuracy:  0.6994\n",
      "Epoch 46, CIFAR-10 Batch 3:  Loss:  0.0671495  Accuracy:  0.6978\n",
      "Epoch 46, CIFAR-10 Batch 4:  Loss:  0.106499  Accuracy:  0.6762\n",
      "Epoch 46, CIFAR-10 Batch 5:  Loss:  0.068052  Accuracy:  0.7032\n",
      "Epoch 47, CIFAR-10 Batch 1:  Loss:  0.122649  Accuracy:  0.6522\n",
      "Epoch 47, CIFAR-10 Batch 2:  Loss:  0.0498129  Accuracy:  0.7048\n",
      "Epoch 47, CIFAR-10 Batch 3:  Loss:  0.046847  Accuracy:  0.7012\n",
      "Epoch 47, CIFAR-10 Batch 4:  Loss:  0.105374  Accuracy:  0.6638\n",
      "Epoch 47, CIFAR-10 Batch 5:  Loss:  0.0837592  Accuracy:  0.677\n",
      "Epoch 48, CIFAR-10 Batch 1:  Loss:  0.0720486  Accuracy:  0.695\n",
      "Epoch 48, CIFAR-10 Batch 2:  Loss:  0.035195  Accuracy:  0.7024\n",
      "Epoch 48, CIFAR-10 Batch 3:  Loss:  0.0603887  Accuracy:  0.6906\n",
      "Epoch 48, CIFAR-10 Batch 4:  Loss:  0.0655849  Accuracy:  0.6816\n",
      "Epoch 48, CIFAR-10 Batch 5:  Loss:  0.0659344  Accuracy:  0.6746\n",
      "Epoch 49, CIFAR-10 Batch 1:  Loss:  0.0691219  Accuracy:  0.6956\n",
      "Epoch 49, CIFAR-10 Batch 2:  Loss:  0.0515488  Accuracy:  0.6958\n",
      "Epoch 49, CIFAR-10 Batch 3:  Loss:  0.0555153  Accuracy:  0.6916\n",
      "Epoch 49, CIFAR-10 Batch 4:  Loss:  0.0774777  Accuracy:  0.6828\n",
      "Epoch 49, CIFAR-10 Batch 5:  Loss:  0.0717436  Accuracy:  0.6824\n",
      "Epoch 50, CIFAR-10 Batch 1:  Loss:  0.0648005  Accuracy:  0.697\n",
      "Epoch 50, CIFAR-10 Batch 2:  Loss:  0.0518813  Accuracy:  0.7048\n",
      "Epoch 50, CIFAR-10 Batch 3:  Loss:  0.0474527  Accuracy:  0.7\n",
      "Epoch 50, CIFAR-10 Batch 4:  Loss:  0.0406542  Accuracy:  0.714\n",
      "Epoch 50, CIFAR-10 Batch 5:  Loss:  0.141819  Accuracy:  0.654\n",
      "Epoch 51, CIFAR-10 Batch 1:  Loss:  0.0640045  Accuracy:  0.7036\n",
      "Epoch 51, CIFAR-10 Batch 2:  Loss:  0.044281  Accuracy:  0.7086\n",
      "Epoch 51, CIFAR-10 Batch 3:  Loss:  0.0536253  Accuracy:  0.6874\n",
      "Epoch 51, CIFAR-10 Batch 4:  Loss:  0.0592102  Accuracy:  0.7038\n",
      "Epoch 51, CIFAR-10 Batch 5:  Loss:  0.0673268  Accuracy:  0.6922\n",
      "Epoch 52, CIFAR-10 Batch 1:  Loss:  0.0770363  Accuracy:  0.6886\n",
      "Epoch 52, CIFAR-10 Batch 2:  Loss:  0.0390108  Accuracy:  0.7024\n"
     ]
    },
    {
     "name": "stdout",
     "output_type": "stream",
     "text": [
      "Epoch 52, CIFAR-10 Batch 3:  Loss:  0.0386279  Accuracy:  0.7\n",
      "Epoch 52, CIFAR-10 Batch 4:  Loss:  0.037991  Accuracy:  0.6992\n",
      "Epoch 52, CIFAR-10 Batch 5:  Loss:  0.0392084  Accuracy:  0.7034\n",
      "Epoch 53, CIFAR-10 Batch 1:  Loss:  0.0695734  Accuracy:  0.692\n",
      "Epoch 53, CIFAR-10 Batch 2:  Loss:  0.0369703  Accuracy:  0.6984\n",
      "Epoch 53, CIFAR-10 Batch 3:  Loss:  0.0350918  Accuracy:  0.6896\n",
      "Epoch 53, CIFAR-10 Batch 4:  Loss:  0.0447346  Accuracy:  0.681\n",
      "Epoch 53, CIFAR-10 Batch 5:  Loss:  0.0473967  Accuracy:  0.7068\n",
      "Epoch 54, CIFAR-10 Batch 1:  Loss:  0.0524681  Accuracy:  0.6934\n",
      "Epoch 54, CIFAR-10 Batch 2:  Loss:  0.0627096  Accuracy:  0.6812\n",
      "Epoch 54, CIFAR-10 Batch 3:  Loss:  0.0326007  Accuracy:  0.6908\n",
      "Epoch 54, CIFAR-10 Batch 4:  Loss:  0.0390544  Accuracy:  0.6912\n",
      "Epoch 54, CIFAR-10 Batch 5:  Loss:  0.0285362  Accuracy:  0.7012\n",
      "Epoch 55, CIFAR-10 Batch 1:  Loss:  0.0217132  Accuracy:  0.702\n",
      "Epoch 55, CIFAR-10 Batch 2:  Loss:  0.0275389  Accuracy:  0.693\n",
      "Epoch 55, CIFAR-10 Batch 3:  Loss:  0.0166009  Accuracy:  0.7064\n",
      "Epoch 55, CIFAR-10 Batch 4:  Loss:  0.0354008  Accuracy:  0.6888\n",
      "Epoch 55, CIFAR-10 Batch 5:  Loss:  0.0123418  Accuracy:  0.7158\n",
      "Epoch 56, CIFAR-10 Batch 1:  Loss:  0.0358502  Accuracy:  0.6986\n",
      "Epoch 56, CIFAR-10 Batch 2:  Loss:  0.019987  Accuracy:  0.709\n",
      "Epoch 56, CIFAR-10 Batch 3:  Loss:  0.0102999  Accuracy:  0.7078\n",
      "Epoch 56, CIFAR-10 Batch 4:  Loss:  0.0413512  Accuracy:  0.6872\n",
      "Epoch 56, CIFAR-10 Batch 5:  Loss:  0.020385  Accuracy:  0.7106\n",
      "Epoch 57, CIFAR-10 Batch 1:  Loss:  0.0181086  Accuracy:  0.7002\n",
      "Epoch 57, CIFAR-10 Batch 2:  Loss:  0.0198409  Accuracy:  0.7098\n",
      "Epoch 57, CIFAR-10 Batch 3:  Loss:  0.0164325  Accuracy:  0.7092\n",
      "Epoch 57, CIFAR-10 Batch 4:  Loss:  0.0331614  Accuracy:  0.676\n",
      "Epoch 57, CIFAR-10 Batch 5:  Loss:  0.0187997  Accuracy:  0.7018\n",
      "Epoch 58, CIFAR-10 Batch 1:  Loss:  0.0211154  Accuracy:  0.7056\n",
      "Epoch 58, CIFAR-10 Batch 2:  Loss:  0.0121187  Accuracy:  0.7014\n",
      "Epoch 58, CIFAR-10 Batch 3:  Loss:  0.00869903  Accuracy:  0.7132\n",
      "Epoch 58, CIFAR-10 Batch 4:  Loss:  0.0345403  Accuracy:  0.6744\n",
      "Epoch 58, CIFAR-10 Batch 5:  Loss:  0.0126108  Accuracy:  0.7108\n",
      "Epoch 59, CIFAR-10 Batch 1:  Loss:  0.0172451  Accuracy:  0.7082\n",
      "Epoch 59, CIFAR-10 Batch 2:  Loss:  0.0448157  Accuracy:  0.6926\n",
      "Epoch 59, CIFAR-10 Batch 3:  Loss:  0.013746  Accuracy:  0.713\n",
      "Epoch 59, CIFAR-10 Batch 4:  Loss:  0.0175987  Accuracy:  0.7002\n",
      "Epoch 59, CIFAR-10 Batch 5:  Loss:  0.0148592  Accuracy:  0.6922\n",
      "Epoch 60, CIFAR-10 Batch 1:  Loss:  0.0192284  Accuracy:  0.707\n",
      "Epoch 60, CIFAR-10 Batch 2:  Loss:  0.0190203  Accuracy:  0.7052\n",
      "Epoch 60, CIFAR-10 Batch 3:  Loss:  0.0142715  Accuracy:  0.709\n",
      "Epoch 60, CIFAR-10 Batch 4:  Loss:  0.0110553  Accuracy:  0.7054\n",
      "Epoch 60, CIFAR-10 Batch 5:  Loss:  0.0228277  Accuracy:  0.6936\n"
     ]
    }
   ],
   "source": [
    "\"\"\"\n",
    "DON'T MODIFY ANYTHING IN THIS CELL\n",
    "\"\"\"\n",
    "save_model_path = './image_classification'\n",
    "\n",
    "print('Training...')\n",
    "with tf.Session() as sess:\n",
    "    # Initializing the variables\n",
    "    sess.run(tf.global_variables_initializer())\n",
    "    \n",
    "    # Training cycle\n",
    "    for epoch in range(epochs):\n",
    "        # Loop over all batches\n",
    "        n_batches = 5\n",
    "        for batch_i in range(1, n_batches + 1):\n",
    "            for batch_features, batch_labels in helper.load_preprocess_training_batch(batch_i, batch_size):\n",
    "                train_neural_network(sess, optimizer, keep_probability, batch_features, batch_labels)\n",
    "            print('Epoch {:>2}, CIFAR-10 Batch {}:  '.format(epoch + 1, batch_i), end='')\n",
    "            print_stats(sess, batch_features, batch_labels, cost, accuracy)\n",
    "            \n",
    "    # Save Model\n",
    "    saver = tf.train.Saver()\n",
    "    save_path = saver.save(sess, save_model_path)"
   ]
  },
  {
   "cell_type": "markdown",
   "metadata": {},
   "source": [
    "# Checkpoint\n",
    "The model has been saved to disk.\n",
    "## Test Model\n",
    "Test your model against the test dataset.  This will be your final accuracy. You should have an accuracy greater than 50%. If you don't, keep tweaking the model architecture and parameters."
   ]
  },
  {
   "cell_type": "code",
   "execution_count": 235,
   "metadata": {},
   "outputs": [
    {
     "name": "stdout",
     "output_type": "stream",
     "text": [
      "INFO:tensorflow:Restoring parameters from ./image_classification\n",
      "Testing Accuracy: 0.6821403980255127\n",
      "\n"
     ]
    },
    {
     "data": {
      "image/png": "[encoded data removed]",
      "text/plain": [
       "<matplotlib.figure.Figure at 0x7f4e74cd6eb8>"
      ]
     },
     "metadata": {
      "image/png": {
       "height": 319,
       "width": 355
      }
     },
     "output_type": "display_data"
    }
   ],
   "source": [
    "\"\"\"\n",
    "DON'T MODIFY ANYTHING IN THIS CELL\n",
    "\"\"\"\n",
    "%matplotlib inline\n",
    "%config InlineBackend.figure_format = 'retina'\n",
    "\n",
    "import tensorflow as tf\n",
    "import pickle\n",
    "import helper\n",
    "import random\n",
    "\n",
    "# Set batch size if not already set\n",
    "try:\n",
    "    if batch_size:\n",
    "        pass\n",
    "except NameError:\n",
    "    batch_size = 64\n",
    "\n",
    "save_model_path = './image_classification'\n",
    "n_samples = 4\n",
    "top_n_predictions = 3\n",
    "\n",
    "def test_model():\n",
    "    \"\"\"\n",
    "    Test the saved model against the test dataset\n",
    "    \"\"\"\n",
    "\n",
    "    test_features, test_labels = pickle.load(open('preprocess_test.p', mode='rb'))\n",
    "    loaded_graph = tf.Graph()\n",
    "\n",
    "    with tf.Session(graph=loaded_graph) as sess:\n",
    "        # Load model\n",
    "        loader = tf.train.import_meta_graph(save_model_path + '.meta')\n",
    "        loader.restore(sess, save_model_path)\n",
    "\n",
    "        # Get Tensors from loaded model\n",
    "        loaded_x = loaded_graph.get_tensor_by_name('x:0')\n",
    "        loaded_y = loaded_graph.get_tensor_by_name('y:0')\n",
    "        loaded_keep_prob = loaded_graph.get_tensor_by_name('keep_prob:0')\n",
    "        loaded_logits = loaded_graph.get_tensor_by_name('logits:0')\n",
    "        loaded_acc = loaded_graph.get_tensor_by_name('accuracy:0')\n",
    "        \n",
    "        # Get accuracy in batches for memory limitations\n",
    "        test_batch_acc_total = 0\n",
    "        test_batch_count = 0\n",
    "        \n",
    "        for test_feature_batch, test_label_batch in helper.batch_features_labels(test_features, test_labels, batch_size):\n",
    "            test_batch_acc_total += sess.run(\n",
    "                loaded_acc,\n",
    "                feed_dict={loaded_x: test_feature_batch, loaded_y: test_label_batch, loaded_keep_prob: 1.0})\n",
    "            test_batch_count += 1\n",
    "\n",
    "        print('Testing Accuracy: {}\\n'.format(test_batch_acc_total/test_batch_count))\n",
    "\n",
    "        # Print Random Samples\n",
    "        random_test_features, random_test_labels = tuple(zip(*random.sample(list(zip(test_features, test_labels)), n_samples)))\n",
    "        random_test_predictions = sess.run(\n",
    "            tf.nn.top_k(tf.nn.softmax(loaded_logits), top_n_predictions),\n",
    "            feed_dict={loaded_x: random_test_features, loaded_y: random_test_labels, loaded_keep_prob: 1.0})\n",
    "        helper.display_image_predictions(random_test_features, random_test_labels, random_test_predictions)\n",
    "\n",
    "\n",
    "test_model()"
   ]
  },
  {
   "cell_type": "markdown",
   "metadata": {},
   "source": [
    "## Why 50-80% Accuracy?\n",
    "You might be wondering why you can't get an accuracy any higher. First things first, 50% isn't bad for a simple CNN.  Pure guessing would get you 10% accuracy. However, you might notice people are getting scores [well above 80%](http://rodrigob.github.io/are_we_there_yet/build/classification_datasets_results.html#43494641522d3130).  That's because we haven't taught you all there is to know about neural networks. We still need to cover a few more techniques.\n",
    "## Submitting This Project\n",
    "When submitting this project, make sure to run all the cells before saving the notebook.  Save the notebook file as \"dlnd_image_classification.ipynb\" and save it as a HTML file under \"File\" -> \"Download as\".  Include the \"helper.py\" and \"problem_unittests.py\" files in your submission."
   ]
  },
  {
   "cell_type": "code",
   "execution_count": null,
   "metadata": {
    "collapsed": true
   },
   "outputs": [],
   "source": []
  }
 ],
 "metadata": {
  "kernelspec": {
   "display_name": "Python 3",
   "language": "python",
   "name": "python3"
  },
  "language_info": {
   "codemirror_mode": {
    "name": "ipython",
    "version": 3
   },
   "file_extension": ".py",
   "mimetype": "text/x-python",
   "name": "python",
   "nbconvert_exporter": "python",
   "pygments_lexer": "ipython3",
   "version": "3.5.3"
  }
 },
 "nbformat": 4,
 "nbformat_minor": 1
}
